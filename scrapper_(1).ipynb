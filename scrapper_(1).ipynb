{
  "cells": [
    {
      "cell_type": "code",
      "execution_count": 1,
      "id": "4b511a55-0648-488c-83d4-297183b60950",
      "metadata": {
        "id": "4b511a55-0648-488c-83d4-297183b60950"
      },
      "outputs": [],
      "source": [
        "import bs4\n",
        "import requests"
      ]
    },
    {
      "cell_type": "code",
      "source": [
        "pip install requests"
      ],
      "metadata": {
        "colab": {
          "base_uri": "https://localhost:8080/"
        },
        "id": "DrC6FgctM1Jf",
        "outputId": "9f08c7f0-8551-4ccc-a17e-e35c17344ad9"
      },
      "id": "DrC6FgctM1Jf",
      "execution_count": 2,
      "outputs": [
        {
          "output_type": "stream",
          "name": "stdout",
          "text": [
            "Requirement already satisfied: requests in /usr/local/lib/python3.11/dist-packages (2.32.3)\n",
            "Requirement already satisfied: charset-normalizer<4,>=2 in /usr/local/lib/python3.11/dist-packages (from requests) (3.4.1)\n",
            "Requirement already satisfied: idna<4,>=2.5 in /usr/local/lib/python3.11/dist-packages (from requests) (3.10)\n",
            "Requirement already satisfied: urllib3<3,>=1.21.1 in /usr/local/lib/python3.11/dist-packages (from requests) (2.4.0)\n",
            "Requirement already satisfied: certifi>=2017.4.17 in /usr/local/lib/python3.11/dist-packages (from requests) (2025.4.26)\n"
          ]
        }
      ]
    },
    {
      "cell_type": "code",
      "source": [
        "pip install bs4"
      ],
      "metadata": {
        "colab": {
          "base_uri": "https://localhost:8080/"
        },
        "id": "IORjt6PLM5oD",
        "outputId": "09b497d1-0dd9-43f7-8627-4b07492d24c1"
      },
      "id": "IORjt6PLM5oD",
      "execution_count": 3,
      "outputs": [
        {
          "output_type": "stream",
          "name": "stdout",
          "text": [
            "Collecting bs4\n",
            "  Downloading bs4-0.0.2-py2.py3-none-any.whl.metadata (411 bytes)\n",
            "Requirement already satisfied: beautifulsoup4 in /usr/local/lib/python3.11/dist-packages (from bs4) (4.13.4)\n",
            "Requirement already satisfied: soupsieve>1.2 in /usr/local/lib/python3.11/dist-packages (from beautifulsoup4->bs4) (2.7)\n",
            "Requirement already satisfied: typing-extensions>=4.0.0 in /usr/local/lib/python3.11/dist-packages (from beautifulsoup4->bs4) (4.13.2)\n",
            "Downloading bs4-0.0.2-py2.py3-none-any.whl (1.2 kB)\n",
            "Installing collected packages: bs4\n",
            "Successfully installed bs4-0.0.2\n"
          ]
        }
      ]
    },
    {
      "cell_type": "code",
      "execution_count": 4,
      "id": "e5983f3a-69db-4a17-a76b-c54c4e3a4043",
      "metadata": {
        "id": "e5983f3a-69db-4a17-a76b-c54c4e3a4043"
      },
      "outputs": [],
      "source": [
        "request1=requests.get(\"https://www.flipkart.com/samsung-galaxy-m35-5g-thunder-grey-128-gb/p/itm24a2a82cf1782?pid=MOBH2Z9HJYYQBFGD&lid=LSTMOBH2Z9HJYYQBFGDBUYXWP&marketplace=FLIPKART&q=samsung+m35&store=tyy%2F4io&srno=s_1_1&otracker=search&otracker1=search&fm=search-autosuggest&iid=dc1d7967-5faf-418f-828c-547a3326efc0.MOBH2Z9HJYYQBFGD.SEARCH&ppt=pp&ppn=pp&ssid=t0ibtcqje80000001746783513737&qH=6e04d3b8b71b6681\")"
      ]
    },
    {
      "cell_type": "code",
      "execution_count": 5,
      "id": "440de953-0eca-411a-81c5-ff1a4dc8452a",
      "metadata": {
        "colab": {
          "base_uri": "https://localhost:8080/"
        },
        "id": "440de953-0eca-411a-81c5-ff1a4dc8452a",
        "outputId": "161eb8dc-41f4-4901-8531-d110b10f768a"
      },
      "outputs": [
        {
          "output_type": "execute_result",
          "data": {
            "text/plain": [
              "<Response [529]>"
            ]
          },
          "metadata": {},
          "execution_count": 5
        }
      ],
      "source": [
        "request1"
      ]
    },
    {
      "cell_type": "code",
      "execution_count": 6,
      "id": "ef793c8c-95e2-4be3-b808-6b95264eb5d2",
      "metadata": {
        "colab": {
          "base_uri": "https://localhost:8080/"
        },
        "id": "ef793c8c-95e2-4be3-b808-6b95264eb5d2",
        "outputId": "d8068f11-69fd-482a-a692-832a7f79a367"
      },
      "outputs": [
        {
          "output_type": "execute_result",
          "data": {
            "text/plain": [
              "b'Site is overloaded'"
            ]
          },
          "metadata": {},
          "execution_count": 6
        }
      ],
      "source": [
        "request1.content"
      ]
    },
    {
      "cell_type": "code",
      "execution_count": 7,
      "id": "80a1dc65-4210-4690-8c3f-65d25ab72b51",
      "metadata": {
        "id": "80a1dc65-4210-4690-8c3f-65d25ab72b51"
      },
      "outputs": [],
      "source": [
        "soup=bs4.BeautifulSoup(request1.text)"
      ]
    },
    {
      "cell_type": "code",
      "execution_count": 8,
      "id": "fcdb3412-96ec-42db-9c92-7a381d544ed9",
      "metadata": {
        "colab": {
          "base_uri": "https://localhost:8080/"
        },
        "id": "fcdb3412-96ec-42db-9c92-7a381d544ed9",
        "outputId": "7508a3b9-b457-40cb-dc81-2a19008068d8"
      },
      "outputs": [
        {
          "output_type": "execute_result",
          "data": {
            "text/plain": [
              "<html><body><p>Site is overloaded</p></body></html>"
            ]
          },
          "metadata": {},
          "execution_count": 8
        }
      ],
      "source": [
        "soup"
      ]
    },
    {
      "cell_type": "code",
      "execution_count": 9,
      "id": "c964e62f-30d7-4af2-9c34-63693b115150",
      "metadata": {
        "colab": {
          "base_uri": "https://localhost:8080/",
          "height": 176
        },
        "id": "c964e62f-30d7-4af2-9c34-63693b115150",
        "outputId": "9b85befc-bd23-4c8f-9c2c-d81416b89f07"
      },
      "outputs": [
        {
          "output_type": "error",
          "ename": "AttributeError",
          "evalue": "'NoneType' object has no attribute 'get_text'",
          "traceback": [
            "\u001b[0;31m---------------------------------------------------------------------------\u001b[0m",
            "\u001b[0;31mAttributeError\u001b[0m                            Traceback (most recent call last)",
            "\u001b[0;32m<ipython-input-9-7d3697ca4fef>\u001b[0m in \u001b[0;36m<cell line: 0>\u001b[0;34m()\u001b[0m\n\u001b[1;32m      1\u001b[0m \u001b[0;31m#get product name\u001b[0m\u001b[0;34m\u001b[0m\u001b[0;34m\u001b[0m\u001b[0m\n\u001b[0;32m----> 2\u001b[0;31m \u001b[0mname\u001b[0m\u001b[0;34m=\u001b[0m\u001b[0msoup\u001b[0m\u001b[0;34m.\u001b[0m\u001b[0mfind\u001b[0m\u001b[0;34m(\u001b[0m\u001b[0;34m'h1'\u001b[0m\u001b[0;34m,\u001b[0m\u001b[0;34m{\u001b[0m\u001b[0;34m'class'\u001b[0m\u001b[0;34m:\u001b[0m\u001b[0;34m'_6EBuvT'\u001b[0m\u001b[0;34m}\u001b[0m\u001b[0;34m)\u001b[0m\u001b[0;34m.\u001b[0m\u001b[0mget_text\u001b[0m\u001b[0;34m(\u001b[0m\u001b[0;34m)\u001b[0m\u001b[0;34m\u001b[0m\u001b[0;34m\u001b[0m\u001b[0m\n\u001b[0m\u001b[1;32m      3\u001b[0m \u001b[0mname\u001b[0m\u001b[0;34m\u001b[0m\u001b[0;34m\u001b[0m\u001b[0m\n",
            "\u001b[0;31mAttributeError\u001b[0m: 'NoneType' object has no attribute 'get_text'"
          ]
        }
      ],
      "source": [
        "#get product name\n",
        "name=soup.find('h1',{'class':'_6EBuvT'}).get_text()\n",
        "name"
      ]
    },
    {
      "cell_type": "code",
      "execution_count": 10,
      "id": "ac7f53f2-6ddb-4019-a812-47dd6d1d78d0",
      "metadata": {
        "id": "ac7f53f2-6ddb-4019-a812-47dd6d1d78d0"
      },
      "outputs": [],
      "source": [
        "#highlights\n",
        "highlights=soup.find_all('li',{'class':'xFVion'})\n",
        "for item in highlights:\n",
        "    print(item.get_text().strip(), \"\\n\")"
      ]
    },
    {
      "cell_type": "code",
      "execution_count": 10,
      "id": "41ddb3b1-cc3b-45a2-b671-a7f038d5e877",
      "metadata": {
        "id": "41ddb3b1-cc3b-45a2-b671-a7f038d5e877"
      },
      "outputs": [],
      "source": []
    },
    {
      "cell_type": "code",
      "execution_count": 11,
      "id": "86eff6e1-9267-48b8-874a-7b5dbbea33d1",
      "metadata": {
        "id": "86eff6e1-9267-48b8-874a-7b5dbbea33d1"
      },
      "outputs": [],
      "source": [
        "#get Reviews"
      ]
    },
    {
      "cell_type": "code",
      "execution_count": 12,
      "id": "0f1e26d6-73f5-476e-9e4a-1fcba69639d7",
      "metadata": {
        "id": "0f1e26d6-73f5-476e-9e4a-1fcba69639d7"
      },
      "outputs": [],
      "source": [
        "reviews=soup.find_all('div',{'class':\"ZmyHeo\"});\n",
        "for review in reviews:\n",
        "    print(review.get_text(),\"\\n\")"
      ]
    },
    {
      "cell_type": "code",
      "execution_count": 13,
      "id": "4a2edf55-1a80-47fb-bdbf-fdf149ca61c1",
      "metadata": {
        "colab": {
          "base_uri": "https://localhost:8080/",
          "height": 158
        },
        "id": "4a2edf55-1a80-47fb-bdbf-fdf149ca61c1",
        "outputId": "39de4f64-f510-4923-dc07-f8b39d789e42"
      },
      "outputs": [
        {
          "output_type": "error",
          "ename": "AttributeError",
          "evalue": "'NoneType' object has no attribute 'get_text'",
          "traceback": [
            "\u001b[0;31m---------------------------------------------------------------------------\u001b[0m",
            "\u001b[0;31mAttributeError\u001b[0m                            Traceback (most recent call last)",
            "\u001b[0;32m<ipython-input-13-9cc5dcb142d9>\u001b[0m in \u001b[0;36m<cell line: 0>\u001b[0;34m()\u001b[0m\n\u001b[0;32m----> 1\u001b[0;31m \u001b[0mavg_review\u001b[0m\u001b[0;34m=\u001b[0m\u001b[0msoup\u001b[0m\u001b[0;34m.\u001b[0m\u001b[0mfind\u001b[0m\u001b[0;34m(\u001b[0m\u001b[0;34m'div'\u001b[0m\u001b[0;34m,\u001b[0m\u001b[0;34m{\u001b[0m\u001b[0;34m'class'\u001b[0m\u001b[0;34m:\u001b[0m\u001b[0;34m\"ipqd2A\"\u001b[0m\u001b[0;34m}\u001b[0m\u001b[0;34m)\u001b[0m\u001b[0;34m.\u001b[0m\u001b[0mget_text\u001b[0m\u001b[0;34m(\u001b[0m\u001b[0;34m)\u001b[0m\u001b[0;34m\u001b[0m\u001b[0;34m\u001b[0m\u001b[0m\n\u001b[0m\u001b[1;32m      2\u001b[0m \u001b[0mavg_review\u001b[0m\u001b[0;34m\u001b[0m\u001b[0;34m\u001b[0m\u001b[0m\n",
            "\u001b[0;31mAttributeError\u001b[0m: 'NoneType' object has no attribute 'get_text'"
          ]
        }
      ],
      "source": [
        "avg_review=soup.find('div',{'class':\"ipqd2A\"}).get_text()\n",
        "avg_review"
      ]
    },
    {
      "cell_type": "code",
      "execution_count": 14,
      "id": "0405e89a-ba52-49f0-9ce7-46cad986aab4",
      "metadata": {
        "id": "0405e89a-ba52-49f0-9ce7-46cad986aab4"
      },
      "outputs": [],
      "source": [
        "#individual rating\n",
        "ind_rat=soup.find_all('div',{'class':\"XQDdHH Ga3i8K\"})\n",
        "for rat in ind_rat:\n",
        "    print(rat.get_text(),\"\\n\")"
      ]
    },
    {
      "cell_type": "code",
      "execution_count": 15,
      "id": "2c349f5e-8c5f-4a41-a322-307259b4f7b9",
      "metadata": {
        "id": "2c349f5e-8c5f-4a41-a322-307259b4f7b9"
      },
      "outputs": [],
      "source": [
        "#QnA"
      ]
    },
    {
      "cell_type": "code",
      "execution_count": 16,
      "id": "fa179ff3-b5c0-43aa-bb0a-3beb622ae5c1",
      "metadata": {
        "id": "fa179ff3-b5c0-43aa-bb0a-3beb622ae5c1"
      },
      "outputs": [],
      "source": [
        "Questions=soup.find_all('div',{'class':'wys2hv _43gOsC',})\n",
        "answers=soup.find_all('div',{'class':'JxAXcP'})\n",
        "\n",
        "for i in Questions:\n",
        "    print(i.get_text())\n",
        "    for j in answers:\n",
        "        print(j.get_text(),\"\\n\")"
      ]
    },
    {
      "cell_type": "code",
      "execution_count": null,
      "id": "cd8b52f6-d420-4ab4-9531-9fad94ad94b8",
      "metadata": {
        "id": "cd8b52f6-d420-4ab4-9531-9fad94ad94b8"
      },
      "outputs": [],
      "source": []
    },
    {
      "cell_type": "code",
      "execution_count": null,
      "id": "f193c50f-af77-42f1-ae07-8e93225329d0",
      "metadata": {
        "id": "f193c50f-af77-42f1-ae07-8e93225329d0"
      },
      "outputs": [],
      "source": []
    }
  ],
  "metadata": {
    "kernelspec": {
      "display_name": "Python 3 (ipykernel)",
      "language": "python",
      "name": "python3"
    },
    "language_info": {
      "codemirror_mode": {
        "name": "ipython",
        "version": 3
      },
      "file_extension": ".py",
      "mimetype": "text/x-python",
      "name": "python",
      "nbconvert_exporter": "python",
      "pygments_lexer": "ipython3",
      "version": "3.12.4"
    },
    "colab": {
      "provenance": []
    }
  },
  "nbformat": 4,
  "nbformat_minor": 5
}